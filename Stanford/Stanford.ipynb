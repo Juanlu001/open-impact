{
 "cells": [
  {
   "cell_type": "markdown",
   "metadata": {},
   "source": [
    "# Stanford hyperspectral\n",
    "\n",
    "We took an hyperspectral image of Stanford (and SF, Berkeley, up to Sacramento, down to Salinas) few weeks ago."
   ]
  },
  {
   "cell_type": "markdown",
   "metadata": {},
   "source": [
    "Download the data from [Telluric](https://telluric.satellogic.com/catalog/scene/newsat4_macro_cube_d455bfb4f126437bb85edb3a4754e6fd_0_4_4) and place it under `data/`"
   ]
  },
  {
   "cell_type": "markdown",
   "metadata": {},
   "source": [
    "## Download the data"
   ]
  },
  {
   "cell_type": "code",
   "execution_count": null,
   "metadata": {},
   "outputs": [],
   "source": [
    "#Authenticate on telluric\n",
    "import requests\n",
    "\n",
    "url = 'https://auth.telluric.satellogic.com/api-token-auth/'\n",
    "payload = {'username':'stanfordhackathon','password':'hack2018'}\n",
    "\n",
    "print(\"Getting token...\")\n",
    "\n",
    "r = requests.post(url, data=payload)\n",
    "if r.status_code != 200:\n",
    "    raise ValueError(\"Telluric response error: %s\" %r.text) \n",
    "\n",
    "telluric_token=\"JWT \"+r.json()['token']\n",
    "\n",
    "print(telluric_token[0:10]+\"*masked*\")"
   ]
  },
  {
   "cell_type": "code",
   "execution_count": null,
   "metadata": {},
   "outputs": [],
   "source": [
    "#get download id for the whole raster\n",
    "url = 'https://telluric.satellogic.com/v2/scenes/download/'\n",
    "scene_id = 'newsat4_macro_cube_d455bfb4f126437bb85edb3a4754e6fd_0_4_4'\n",
    "\n",
    "header = {'authorization': telluric_token}\n",
    "data = {'scene_id': scene_id,\n",
    "        'async': 1}  # Important! This will prepare the download in the background for us\n",
    "\n",
    "print(\"Requesting download...\")\n",
    "\n",
    "r = requests.get(url, params=data, headers=header)\n",
    "if r.status_code != 200:\n",
    "    raise ValueError(\"Telluric response error: %s\" %r.text) \n",
    "\n",
    "response = r.json()\n",
    "response"
   ]
  },
  {
   "cell_type": "code",
   "execution_count": null,
   "metadata": {},
   "outputs": [],
   "source": [
    "#after a while, the download is ready\n",
    "requests.get(r.json()['status_path'], headers=header).json()"
   ]
  },
  {
   "cell_type": "code",
   "execution_count": null,
   "metadata": {},
   "outputs": [],
   "source": [
    "#download raster to a file (<10 minutes with a good connection)\n",
    "url = response['download_url']\n",
    "filename = response['filename']\n",
    "header = { 'authorization' : telluric_token}\n",
    "\n",
    "# http://docs.python-requests.org/en/master/user/quickstart/#raw-response-content\n",
    "r = requests.get(url, headers=header, stream=True)\n",
    "if r.status_code != 200:\n",
    "    raise ValueError(\"Telluric response error: %s\" %r.text) \n",
    "\n",
    "with open(filename, 'wb') as fd:\n",
    "    for chunk in r.iter_content(chunk_size=128):\n",
    "        fd.write(chunk)"
   ]
  },
  {
   "cell_type": "code",
   "execution_count": null,
   "metadata": {},
   "outputs": [],
   "source": [
    "#unzip the contents\n",
    "import os\n",
    "from zipfile import ZipFile\n",
    "\n",
    "data_path = \"data/satellogic/macro\"\n",
    "os.makedirs(data_path)\n",
    "\n",
    "with ZipFile(filename, 'r') as fp:\n",
    "    fp.extractall(data_path)"
   ]
  },
  {
   "cell_type": "markdown",
   "metadata": {},
   "source": [
    "---"
   ]
  },
  {
   "cell_type": "code",
   "execution_count": null,
   "metadata": {},
   "outputs": [],
   "source": [
    "import os\n",
    "import numpy as np\n",
    "\n",
    "hypercube_folder=\"./data/satellogic/\"\n",
    "files=os.listdir(hypercube_folder) \n",
    "\n",
    "hfiles=np.sort([x for x in files if x[-6:]=='nm.tif'])\n",
    "\n",
    "print(\"Number of Spectral bands: %i\" % (len(hfiles)))\n",
    "print(hfiles)\n"
   ]
  },
  {
   "cell_type": "code",
   "execution_count": null,
   "metadata": {},
   "outputs": [],
   "source": [
    "#Read ALL bands, \n",
    "# mask them into the ROI and \n",
    "# save them into a single multiband cube\n",
    "# MINIMIZE MEMORY FOOTPRINT\n",
    "\n",
    "import fiona\n",
    "import rasterio\n",
    "from rasterio.mask import mask\n",
    "\n",
    "#to mask the region we need both images in the same CRS\n",
    "with fiona.open(\"./Stanford-SF.geojson\", \"r\") as shapefile:\n",
    "    geoms = [feature[\"geometry\"] for feature in shapefile]\n",
    "\n",
    "max_cast=40000\n",
    "min_cast=0\n",
    "\n",
    "with rasterio.open(hypercube_folder+hfiles[0]) as src:\n",
    "    out_image, out_transform = mask(src, geoms, crop=True)\n",
    "cube_dtype=np.uint8 #np.uint16 to have more spectral flux resolution.\n",
    "cube=np.zeros((np.shape(out_image.data)[1], np.shape(out_image.data)[2],len(hfiles)),dtype=np.uint8)\n",
    "\n",
    "\n",
    "print(\"Reading files...\",end='')\n",
    "for i in np.arange(len(hfiles[:])):\n",
    "    file=hfiles[i]\n",
    "    print(file,end=\", \"),\n",
    "    with rasterio.open(hypercube_folder+file) as src:\n",
    "        out_image, out_transform = mask(src, geoms, crop=True)\n",
    "        if out_image.data.dtype == cube.dtype:\n",
    "            cube[:,:,i]=out_image.data\n",
    "        else:\n",
    "            #cast to uint8, to save space\n",
    "            cube[:,:,i]=((np.clip(out_image.data,min_cast,max_cast)-min_cast)/(max_cast-min_cast))*np.iinfo(cube.dtype).max\n",
    "print(\"\")"
   ]
  },
  {
   "cell_type": "code",
   "execution_count": null,
   "metadata": {},
   "outputs": [],
   "source": [
    "#plot the data\n",
    "%matplotlib notebook\n",
    "%matplotlib notebook\n",
    "from ipywidgets import *\n",
    "import numpy as np\n",
    "import matplotlib.pyplot as plt\n",
    "import matplotlib.patches as patches\n",
    "\n",
    "def macro_plot(c):\n",
    "    wavelengths = [int(a[10:13]) for a in hfiles]\n",
    "\n",
    "    i=int(c.shape[2]/2)    \n",
    "    x=int(c.shape[0]/2)\n",
    "    y=int(c.shape[1]/2)\n",
    "    \n",
    "    fig=plt.figure()\n",
    "    im=plt.subplot(121)\n",
    "    s=plt.subplot(122)\n",
    "\n",
    "    im.cla()\n",
    "    im.imshow(c[:,:,i])\n",
    "\n",
    "    red=[620,750]\n",
    "    green=[495,570]\n",
    "    blue=[450,495]\n",
    "    def spectra(i,x,y):\n",
    "        s.cla()\n",
    "        s.plot(wavelengths,c[x,y,:]/255,'o-')\n",
    "        s.axvline(x=wavelengths[i],linestyle=':',color='black')\n",
    "    \n",
    "    #add RGB reference\n",
    "        for p in [\n",
    "        patches.Rectangle(\n",
    "            (red[0], 0), red[1]-red[0], 1,\n",
    "            alpha=.1,Color='red'\n",
    "        ),\n",
    "        patches.Rectangle(\n",
    "            (green[0], 0), green[1]-green[0], 1,\n",
    "            alpha=.1,Color='green'\n",
    "        ),\n",
    "        patches.Rectangle(\n",
    "            (blue[0], 0), blue[1]-blue[0], 1,\n",
    "            alpha=.1,Color='blue'\n",
    "        ),\n",
    "    ]:\n",
    "            s.add_patch(p)\n",
    "        plt.show()\n",
    "\n",
    "    def onclick(event):\n",
    "        y=int(event.xdata)\n",
    "        x=int(event.ydata)\n",
    "        i=i_slider.value\n",
    "        spectra(i,x,y)\n",
    "    im.figure.canvas.mpl_connect('button_press_event', onclick)\n",
    "    \n",
    "\n",
    "    def spectrogram(i):\n",
    "        im.imshow(c[:,:,i], cmap='gray')\n",
    "        spectra(i,x,y)\n",
    "\n",
    "    spectrogram(i)\n",
    "    i_slider = widgets.IntSlider(min=0,\n",
    "                             max=c.shape[2]-1,\n",
    "                             step=1,\n",
    "                             value=c.shape[2]/2,\n",
    "                             description='Channel')\n",
    "    interact(spectrogram, i=i_slider)\n",
    "macro_plot(cube)\n"
   ]
  },
  {
   "cell_type": "code",
   "execution_count": null,
   "metadata": {},
   "outputs": [],
   "source": [
    "from spectral import *\n",
    "k=30\n",
    "loops=10\n",
    "(m, c) = kmeans(cube[:,:,1:], k, loops)"
   ]
  },
  {
   "cell_type": "code",
   "execution_count": null,
   "metadata": {},
   "outputs": [],
   "source": [
    "import matplotlib.cm as cm\n",
    "km=plt.figure()\n",
    "\n",
    "base = plt.cm.get_cmap(cm.jet)\n",
    "cmap=base.from_list('', base(np.linspace(0, 1, k)), k)\n",
    "\n",
    "plt.imshow(m,cmap=cmap)\n",
    "plt.colorbar"
   ]
  }
 ],
 "metadata": {
  "kernelspec": {
   "display_name": "Python 3",
   "language": "python",
   "name": "python3"
  },
  "language_info": {
   "codemirror_mode": {
    "name": "ipython",
    "version": 3
   },
   "file_extension": ".py",
   "mimetype": "text/x-python",
   "name": "python",
   "nbconvert_exporter": "python",
   "pygments_lexer": "ipython3",
   "version": "3.6.4"
  }
 },
 "nbformat": 4,
 "nbformat_minor": 2
}
