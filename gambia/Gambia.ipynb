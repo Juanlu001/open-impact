{
 "cells": [
  {
   "cell_type": "markdown",
   "metadata": {},
   "source": [
    "## Access to market / Gambia\n",
    "\n",
    "One of the most important aspects in development is access to/from resources. For example access to  hospitals, to schools, to markets...\n",
    "\n",
    "The idea of this project is to focus on measuring this accessibility, either by assessing the transportation road conditions (find new, missing roads, or pavement quality) or calculate the distance from the harvested fields to the ports or markets.\n",
    "\n",
    "For example, in Gambia [1/3 of the GDP](https://en.wikipedia.org/wiki/Economy_of_the_Gambia) is agriculture, and about [75% of the population depends on crops](https://rainforests.mongabay.com/deforestation/archive/Gambia.htm).\n",
    "\n",
    "We could, for example, calculate first the location of planted areas, and then the travel times between these and the closest villages, or port (for exports). This will give us information of the operating cost and effort to produce the harvest, and could help us calculate the impact when a particular road is upgraded, or degraded.\n",
    "\n",
    "### Data available:\n",
    "\n",
    "- Landsat/Copernicus Level-1 at different times.\n",
    "- Satellogic Hyperspectral where available.\n",
    "- Historical Hyperion where available.\n",
    "\n",
    "\n",
    "## This notebook\n",
    "\n",
    "This notebook summarizes the idea of the project, links to relevant sources and kickstarts the initial steps getting the software and data to start working\n",
    "\n",
    "\n",
    "### Troubleshoot\n",
    "* This is meant to work with python 3.\n",
    "* If you see `Import error` it will probably work by doing `conda install <package>`\n",
    "* IF you get an error `Import error: /Users/brunosan/anaconda3/lib/libgdal.20.dylib. Reason: image not found` try `conda install  libgdal=2.0.0`"
   ]
  },
  {
   "cell_type": "markdown",
   "metadata": {},
   "source": [
    "## Load a satellogic hyperspectral data from the region\n",
    "\n",
    "\n",
    "Hyperspectral data can easily overpower your system resources (31 bands x 1500 width x 1500 height x 16bit/pixel is a lot or memory).\n",
    "\n",
    "The strategy here is going to be to:\n",
    "* Use the RGB color raster created by Satellogic, \n",
    "* Downsample the RGB 25% (25%^2 or ~6% of the filesize) to make it easier to work with, \n",
    "* Select a small windows of interest, and \n",
    "* Finally load all the hyperspectral data for that window.\n",
    "\n",
    "Once you know the exact computation you might want to script it for the whole raster."
   ]
  },
  {
   "cell_type": "markdown",
   "metadata": {},
   "source": [
    "# How to get the Satellogic hypersectral data\n",
    "\n",
    "You should have received a user/password (if not, email brunosan@satellogic.com). Once in the data portal (Telluric), [this links will go straight to the search in the Catalog for Gambia](https://telluric.satellogic.com/catalog/shared/N4IgRghgzgpgthADiAXCAFgF04qKD0+A1gPYBOJAdhAHQDmMJdNArpQJYC06M7AJjAA2YGGWYD8mdoJhR8FCHyh18ADwC8wVQF8AZAE9N+vQC9NJ7SAA0IAMYxKmUagDanAIwBOAOyeADN4ArDSeAEzeAMx+EQAsAGyeEVbugYF+Mak0oRERoWmBEQAccQC6NrYsZGQOmADK9pQwAJIAIqggjQDuUBCYEQD6CLYU-RUi-XneMIV+gaG2cXyeMWDeoYoQfquFhe6Rvu4AZhD9fv0x-RHWdoLstkQwfPUOzW1oXT19gxDDJKMs40m01m80Wy1W6z4m22u32niOJzOFyuNnQJAAbqJHs9Gq1UJQWIJBDYEOxKAAFCCNQQAYUq1UcABUIGB2tUoITMFBrodpE4yAAlEgsJzclAuFwgQ4kEg4MhkzAgMqSjmIRC3ZzKkCICh8Fi2TDUOAwJVWSVSY1QTAQODILVQBowfr8U0qx2wTDOviukCfIS3Jz9I0mkplEAARxYon0qFA0tlOoV7WAAB0QJh9IgYGmUGnySRBPo6FQ01Y07YZWQ+GTerIcxK3O5CjQInEZnEm7t0pEAskYjQYn44oPPIF3LMYqFPMVlR5m63253xzEe95kqEB1FQnFQn5EnFW4FZ+4N-5Zv5QqFB35CstQuvN35t7v94fj6e-Oen1fP7fJ32ByHEcxwnKcZzNOcWzbIcl27KI13cftB2HPcQMCSdp1KUNLBsP0iXYQNg3aa4HReL1iNw90YE9F00BIlg1Q1MgKKlCg4H6C0TTomxMD+TiWNuOACNQcdPxsEhDkOD1UD8ElqI2a1Y20GwdRIPUDSItAxhNZSQBMGU4FQOIaG8GJChyCzLIsmw+DICBOlEWprUwFgxRAEgs0ab0eI8nFXnaD5egGIYRm0iZAimGY5gWJYVjWDYtm8HY9giA5jlOc5Lmuch2DoGtBD8vF3hgbogu+X5-kBCLgWisE4shaEkthVL4XSpEstw8gpEoOgADF2CEJRXFACgRS4lwwykTAZCc+UepYw5CUESlMHQFiHhjbj3KrZw6OUkbhScVxJoImbMDmugFqWla1q2jaWPIARmL2qwDrG46eNOmBZrJS6tsWokbvWmBNpAbKduesHtBKbQgA).\n",
    "\n",
    "From there, select an image. Below we chose [`257e8052c6d94b72ada0b788173791fa`](https://telluric.satellogic.com/catalog/scene/newsat3_macro_cube_257e8052c6d94b72ada0b788173791fa_0_4_3)\n",
    "\n",
    "Notice: A whole scene set weights roughly *3Gb* compressed.\n",
    "\n",
    "![](telluric_search.png)"
   ]
  },
  {
   "cell_type": "markdown",
   "metadata": {},
   "source": [
    "## Download the data"
   ]
  },
  {
   "cell_type": "code",
   "execution_count": null,
   "metadata": {
    "collapsed": true
   },
   "outputs": [],
   "source": [
    "#Authenticate on telluric\n",
    "import requests\n",
    "url = 'https://auth.telluric.satellogic.com/api-token-auth/'\n",
    "payload = {'username':'socialimpact','password':'sclmpct2018'}\n",
    "\n",
    "print(\"Getting token...\")\n",
    "r = requests.post(url, data=payload)\n",
    "if r.status_code != 200:\n",
    "    raise ValueError(\"Telluric response error: %s\" %r.text) \n",
    "telluric_token=\"JWT \"+r.json()['token']\n",
    "print(telluric_token[0:10]+\"*masked*\")"
   ]
  },
  {
   "cell_type": "code",
   "execution_count": null,
   "metadata": {
    "collapsed": true
   },
   "outputs": [],
   "source": [
    "#get scene id\n",
    "import json\n",
    "\n",
    "# https://telluric.satellogic.com/docs/#operation/list\n",
    "url = 'https://telluric.satellogic.com/v2/scenes/'\n",
    "\n",
    "footprint ={\n",
    "        \"type\": \"Point\",\n",
    "        \"coordinates\": [\n",
    "          -16.64703369140625,\n",
    "          13.447059093856021\n",
    "        ]\n",
    "      }\n",
    "\n",
    "payload = {'footprint': json.dumps(footprint),\n",
    "           'productname':'cube'}\n",
    "header = { 'authorization' : telluric_token}\n",
    "print(\"Requesting scene...\")\n",
    "r = requests.get(url, params=payload, headers=header)\n",
    "if r.status_code != 200:\n",
    "    raise ValueError(\"Telluric response error: %s\" %r.text) \n",
    "response=r.json()\n",
    "scene_id=response['results'][0]['scene_id']\n",
    "print(scene_id)"
   ]
  },
  {
   "cell_type": "code",
   "execution_count": null,
   "metadata": {
    "collapsed": true
   },
   "outputs": [],
   "source": [
    "response['results'][0]['rasters'][:3]  # we can retrieve information about individual bands"
   ]
  },
  {
   "cell_type": "code",
   "execution_count": null,
   "metadata": {
    "collapsed": true
   },
   "outputs": [],
   "source": [
    "#download specific hyperspectral band to a file (<30 s with a good connection)\n",
    "raster_827 = response['results'][0]['rasters'][1]\n",
    "\n",
    "url = raster_827['url']\n",
    "filename = raster_827['file_name']\n",
    "header = { 'authorization' : telluric_token}\n",
    "\n",
    "# http://docs.python-requests.org/en/master/user/quickstart/#raw-response-content\n",
    "r = requests.get(url, headers=header, stream=True)\n",
    "if r.status_code != 200:\n",
    "    raise ValueError(\"Telluric response error: %s\" %r.text) \n",
    "\n",
    "with open(filename, 'wb') as fd:\n",
    "    for chunk in r.iter_content(chunk_size=128):\n",
    "        fd.write(chunk)"
   ]
  },
  {
   "cell_type": "code",
   "execution_count": null,
   "metadata": {
    "collapsed": true
   },
   "outputs": [],
   "source": [
    "#get download id for the whole raster\n",
    "url = 'https://telluric.satellogic.com/v2/scenes/download/'\n",
    "\n",
    "header = { 'authorization' : telluric_token}\n",
    "data = {'scene_id':scene_id,\n",
    "        'async': 1}  # Important! This will prepare the download in the background for us\n",
    "print(\"Requesting download...\")\n",
    "r = requests.get(url, params=data, headers=header)\n",
    "if r.status_code != 200:\n",
    "    raise ValueError(\"Telluric response error: %s\" %r.text) \n",
    "response = r.json()\n",
    "response"
   ]
  },
  {
   "cell_type": "code",
   "execution_count": null,
   "metadata": {
    "collapsed": true
   },
   "outputs": [],
   "source": [
    "#after a while, the download is ready \n",
    "#run this cell to check the download progress and wait until it is 100\n",
    "requests.get(r.json()['status_path'], headers=header).json()"
   ]
  },
  {
   "cell_type": "code",
   "execution_count": null,
   "metadata": {
    "collapsed": true
   },
   "outputs": [],
   "source": [
    "#download raster to a file (<10 minutes with a good connection)\n",
    "url = response['download_url']\n",
    "filename = response['filename']\n",
    "header = { 'authorization' : telluric_token}\n",
    "\n",
    "# http://docs.python-requests.org/en/master/user/quickstart/#raw-response-content\n",
    "r = requests.get(url, headers=header, stream=True)\n",
    "if r.status_code != 200:\n",
    "    raise ValueError(\"Telluric response error: %s\" %r.text) \n",
    "\n",
    "with open(filename, 'wb') as fd:\n",
    "    for chunk in r.iter_content(chunk_size=128):\n",
    "        fd.write(chunk)"
   ]
  },
  {
   "cell_type": "code",
   "execution_count": null,
   "metadata": {
    "collapsed": true
   },
   "outputs": [],
   "source": [
    "#unzip the contents\n",
    "import os\n",
    "from zipfile import ZipFile\n",
    "\n",
    "data_path = \"data/satellogic/macro\"\n",
    "os.makedirs(data_path)\n",
    "\n",
    "with ZipFile(filename, 'r') as fp:\n",
    "    fp.extractall(data_path)"
   ]
  },
  {
   "cell_type": "markdown",
   "metadata": {},
   "source": [
    "## Load the data"
   ]
  },
  {
   "cell_type": "code",
   "execution_count": null,
   "metadata": {
    "collapsed": true
   },
   "outputs": [],
   "source": [
    "import os\n",
    "from glob import glob\n",
    "\n",
    "hypercube_folder=\"./data/satellogic/macro/newsat3_macro_cube_257e8052c6d94b72ada0b788173791fa_0_4_3/rasters/\"\n",
    "files = [os.path.basename(fname) for fname in glob(hypercube_folder + \"*.tif\")]\n",
    "\n",
    "rgb_file=[x for x in files if 'rgb_enhanced' in x][0]\n",
    "hfiles=sorted(x for x in files if x[-6:]=='nm.tif')\n",
    "\n",
    "print(\"RGB file: %s. Number of Spectral bands: %i\" % (rgb_file,len(hfiles)))\n",
    "print(files)"
   ]
  },
  {
   "cell_type": "code",
   "execution_count": null,
   "metadata": {
    "collapsed": true
   },
   "outputs": [],
   "source": [
    "import telluric as tl\n",
    "\n",
    "path = hypercube_folder + rgb_file\n",
    "\n",
    "rgb = tl.GeoRaster2.open(path)\n",
    "rgb"
   ]
  },
  {
   "cell_type": "code",
   "execution_count": null,
   "metadata": {},
   "outputs": [],
   "source": [
    "from pprint import pprint\n",
    "\n",
    "stats = {\n",
    "    'min': rgb.min(),\n",
    "    'mean': rgb.mean(),\n",
    "    'median': rgb.reduce('median'),\n",
    "    'max': rgb.max()\n",
    "}\n",
    "print(\"File: \",path)\n",
    "pprint(stats)"
   ]
  },
  {
   "cell_type": "code",
   "execution_count": null,
   "metadata": {
    "collapsed": true
   },
   "outputs": [],
   "source": [
    "print(\"Data types:\", rgb.dtype)\n",
    "print(\"Bounds:\", rgb.bounds())\n",
    "print(\"CRS:\", rgb.crs)"
   ]
  },
  {
   "cell_type": "code",
   "execution_count": null,
   "metadata": {
    "collapsed": true
   },
   "outputs": [],
   "source": [
    "from rasterio import enums\n",
    "\n",
    "rgb_resampled = rgb.resize(\n",
    "    ratio=0.25,  # 1/4 on the side, typically 1/4^2 reduction is filesize\n",
    "    resampling=enums.Resampling.nearest\n",
    ")\n",
    "rgb_resampled.save(hypercube_folder + 'resampled_rgb2.tif')"
   ]
  },
  {
   "cell_type": "code",
   "execution_count": null,
   "metadata": {
    "collapsed": true
   },
   "outputs": [],
   "source": [
    "#quick overall plot\n",
    "%matplotlib inline\n",
    "import matplotlib.pyplot as plt\n",
    "\n",
    "from rasterio.plot import show\n",
    "from rasterio.plot import show_hist\n",
    "\n",
    "fig, (axrgb, axhist) = plt.subplots(1, 2, figsize=(14,7))\n",
    "\n",
    "show(rgb_resampled.image, ax=axrgb)\n",
    "show_hist(rgb_resampled.image, bins=50, histtype='stepfilled',\n",
    "      lw=0.0, stacked=False, alpha=0.3, ax=axhist)"
   ]
  },
  {
   "cell_type": "code",
   "execution_count": null,
   "metadata": {
    "collapsed": true
   },
   "outputs": [],
   "source": [
    "#Plot the subregion to focus on, around the capital of Gambia, Banjul\n",
    "roi = tl.FileCollection.open(\"banjul.geojson\").envelope\n",
    "\n",
    "cropped = tl.GeoRaster2.open(path).crop(roi)\n",
    "cropped.save(hypercube_folder + \"banjul2.tif\")"
   ]
  },
  {
   "cell_type": "code",
   "execution_count": null,
   "metadata": {
    "collapsed": true
   },
   "outputs": [],
   "source": [
    "fig, (axrgb, axhist) = plt.subplots(1, 2, figsize=(14,7))\n",
    "\n",
    "show(cropped.image, ax=axrgb)\n",
    "show_hist(cropped.image, bins=50, histtype='stepfilled',\n",
    "      lw=0.0, stacked=False, alpha=0.3, ax=axhist)"
   ]
  },
  {
   "cell_type": "code",
   "execution_count": null,
   "metadata": {
    "collapsed": true
   },
   "outputs": [],
   "source": [
    "from telluric.georaster import merge_all\n",
    "\n",
    "print(\"Reading files...\", end='')\n",
    "bands = []\n",
    "for band in hfiles:\n",
    "    print(band, end=\", \")\n",
    "    rs = tl.GeoRaster2.open(hypercube_folder + band)\n",
    "    bands.append(rs)\n",
    "\n",
    "cube_raster = (\n",
    "    merge_all(bands, roi.reproject(rgb.crs))  # The reproject will determine the final CRS\n",
    "    #.astype(np.uint8)  # Cast to uint8 to save space  \n",
    ")\n",
    "print(\"\")"
   ]
  },
  {
   "cell_type": "code",
   "execution_count": null,
   "metadata": {
    "collapsed": true
   },
   "outputs": [],
   "source": [
    "cube_raster"
   ]
  },
  {
   "cell_type": "code",
   "execution_count": null,
   "metadata": {},
   "outputs": [],
   "source": [
    "cube = cube_raster.astype(np.uint8).image.transpose(1, 2, 0)"
   ]
  },
  {
   "cell_type": "markdown",
   "metadata": {},
   "source": [
    "## Visualize the data"
   ]
  },
  {
   "cell_type": "code",
   "execution_count": null,
   "metadata": {},
   "outputs": [],
   "source": [
    "%matplotlib notebook\n",
    "\n",
    "from ipywidgets import *\n",
    "import numpy as np\n",
    "import matplotlib.pyplot as plt\n",
    "import matplotlib.patches as patches\n",
    "\n",
    "def macro_plot(c):\n",
    "    wavelengths = np.asarray([450, 462, 475, 488, 502, 516, 530, 550, 570, 582, 595, 608, 616, 670, 680, 690, 700, 710, 720, 730, 740, 750, \n",
    "                                   760 , 770, 780, 790, 800, 810, 820, 827])\n",
    "\n",
    "    i=int(c.shape[2]/2)    \n",
    "    x=int(c.shape[0]/2)\n",
    "    y=int(c.shape[1]/2)\n",
    "    \n",
    "    fig=plt.figure(0)\n",
    "    im=plt.subplot(121)\n",
    "    s=plt.subplot(122)\n",
    "\n",
    "    im.cla()\n",
    "    im.imshow(c[:,:,i])\n",
    "\n",
    "    red=[620,750]\n",
    "    green=[495,570]\n",
    "    blue=[450,495]\n",
    "    def spectra(i,x,y):\n",
    "        s.cla()\n",
    "        s.plot(wavelengths,c[x,y,:]/255,'o-')\n",
    "        s.axvline(x=wavelengths[i],linestyle=':',color='black')\n",
    "        s.set_title('Pixel intensity')\n",
    "        s.set_ylim(0,1)\n",
    "    \n",
    "    #add RGB reference\n",
    "        for p in [\n",
    "        patches.Rectangle(\n",
    "            (red[0], 0), red[1]-red[0], 1,\n",
    "            alpha=.1,Color='red'\n",
    "        ),\n",
    "        patches.Rectangle(\n",
    "            (green[0], 0), green[1]-green[0], 1,\n",
    "            alpha=.1,Color='green'\n",
    "        ),\n",
    "        patches.Rectangle(\n",
    "            (blue[0], 0), blue[1]-blue[0], 1,\n",
    "            alpha=.1,Color='blue'\n",
    "        ),\n",
    "    ]:\n",
    "            s.add_patch(p)\n",
    "        plt.show()\n",
    "\n",
    "    def onclick(event):\n",
    "        y=int(event.xdata)\n",
    "        x=int(event.ydata)\n",
    "        i=i_slider.value\n",
    "        spectra(i,x,y)\n",
    "    im.figure.canvas.mpl_connect('button_press_event', onclick)\n",
    "    \n",
    "\n",
    "    def spectrogram(i):\n",
    "        im.imshow(c[:,:,i], cmap='gray')\n",
    "        spectra(i,x,y)\n",
    "\n",
    "    spectrogram(i)\n",
    "    i_slider = widgets.IntSlider(min=0,\n",
    "                             max=c.shape[2]-1,\n",
    "                             step=1,\n",
    "                             value=c.shape[2]/2,\n",
    "                             description='Channel')\n",
    "    interact(spectrogram, i=i_slider)\n",
    "\n",
    "macro_plot(cube)"
   ]
  },
  {
   "cell_type": "code",
   "execution_count": null,
   "metadata": {
    "collapsed": true
   },
   "outputs": [],
   "source": [
    "##Check for image shifts (i vs i+1). Some images could have inter-channel spatial drift\n",
    "##If found shift to align\n",
    "\n",
    "from skimage.feature import register_translation\n",
    "\n",
    "for i in np.arange(len(hfiles[:])-1):\n",
    "    shift, error, diffphase = register_translation(cube[920:1020,320:420,15], cube[920:1020,320:420,i],1)\n",
    "    print(i,shift)\n",
    "print(\"\")\n"
   ]
  },
  {
   "cell_type": "markdown",
   "metadata": {},
   "source": [
    "# Land classifier\n",
    "\n",
    "The following section points into ways one can classify  a scene without ground data.\n",
    "For more information check out http://www.spectralpython.net/algorithms.html\n",
    "\n",
    "uses a simple k-means"
   ]
  },
  {
   "cell_type": "code",
   "execution_count": null,
   "metadata": {
    "collapsed": true
   },
   "outputs": [],
   "source": [
    "from spectral import *\n",
    "k=30\n",
    "loops=10\n",
    "(m, c) = kmeans(cube, k, loops)"
   ]
  },
  {
   "cell_type": "code",
   "execution_count": null,
   "metadata": {
    "collapsed": true
   },
   "outputs": [],
   "source": [
    "import matplotlib.cm as cm\n",
    "km=plt.figure(4)\n",
    "\n",
    "base = plt.cm.get_cmap(cm.jet)\n",
    "cmap=base.from_list('', base(np.linspace(0, 1, k)), k)\n",
    "\n",
    "plt.imshow(m,cmap=cmap)\n",
    "plt.colorbar"
   ]
  },
  {
   "cell_type": "code",
   "execution_count": null,
   "metadata": {
    "collapsed": true
   },
   "outputs": [],
   "source": [
    "import pylab\n",
    "f=pylab.figure()\n",
    "f.hold(1)\n",
    "for i in range(c.shape[0]):\n",
    "    pylab.plot(c[i])\n",
    "    \n",
    "pylab.show()"
   ]
  },
  {
   "cell_type": "code",
   "execution_count": null,
   "metadata": {
    "collapsed": true
   },
   "outputs": [],
   "source": [
    "#PCA\n",
    "#When doing principal components, the more components, the less information, hence they decay\n",
    "\n",
    "pc = principal_components(cube)\n",
    "\n",
    "#COV shows the correlation among wavelengths, which, as you can see is highest in the Infrared  (>20)\n",
    "#(most probably for the amount of water in the scene), which has low reflectance in that range.\n",
    "\n",
    "v = imshow(pc.cov)"
   ]
  },
  {
   "cell_type": "code",
   "execution_count": null,
   "metadata": {
    "collapsed": true
   },
   "outputs": [],
   "source": [
    "#Helper function to plot 3D cubes\n",
    "def spectral_plot(c):\n",
    " \n",
    "    i=int(c.shape[2]/2)    \n",
    "    x=int(c.shape[0]/2)\n",
    "    y=int(c.shape[1]/2)\n",
    "    \n",
    "    fig=plt.figure(2)\n",
    "    im=plt.subplot(121)\n",
    "    s=plt.subplot(122)\n",
    "\n",
    "    im.cla()\n",
    "    im.imshow(c[:,:,i])\n",
    "\n",
    "    def spectra(i,x,y):\n",
    "        s.cla()\n",
    "        s.plot(c[x,y,:]/255,'o-')\n",
    "        s.axvline(x=i,linestyle=':',color='black')\n",
    "        s.set_title('Pixel intensity')\n",
    "        s.set_ylim(0,1)\n",
    "    \n",
    "\n",
    "    def onclick(event):\n",
    "        y=int(event.xdata)\n",
    "        x=int(event.ydata)\n",
    "        i=i_slider.value\n",
    "        spectra(i,x,y)\n",
    "    im.figure.canvas.mpl_connect('button_press_event', onclick)\n",
    "    \n",
    "\n",
    "    def spectrogram(i):\n",
    "        im.imshow(c[:,:,i], cmap='gray')\n",
    "        spectra(i,x,y)\n",
    "\n",
    "    spectrogram(i)\n",
    "    i_slider = widgets.IntSlider(min=0,\n",
    "                             max=c.shape[2]-1,\n",
    "                             step=1,\n",
    "                             value=c.shape[2]/2,\n",
    "                             description='Channel')\n",
    "    interact(spectrogram, i=i_slider)\n"
   ]
  },
  {
   "cell_type": "code",
   "execution_count": null,
   "metadata": {
    "collapsed": true
   },
   "outputs": [],
   "source": [
    "fraction=0.999\n",
    "\n",
    "pc_0999 = pc.reduce(fraction=fraction)\n",
    "\n",
    "# How many eigenvalues are left?\n",
    "\n",
    "print(\"Reducing with PCA to %2.1f%% of original image variance, yields %i frames.\"%(fraction*100,len(pc_0999.eigenvalues)))\n",
    "\n",
    "img_pc = pc_0999.transform(cube)\n",
    "\n",
    "\n",
    "\n",
    "spectral_plot(img_pc)"
   ]
  }
 ],
 "metadata": {
  "kernelspec": {
   "display_name": "Python 3",
   "language": "python",
   "name": "python3"
  },
  "language_info": {
   "codemirror_mode": {
    "name": "ipython",
    "version": 3
   },
   "file_extension": ".py",
   "mimetype": "text/x-python",
   "name": "python",
   "nbconvert_exporter": "python",
   "pygments_lexer": "ipython3",
   "version": "3.6.4"
  }
 },
 "nbformat": 4,
 "nbformat_minor": 2
}
