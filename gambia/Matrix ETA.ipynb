{
 "cells": [
  {
   "cell_type": "markdown",
   "metadata": {},
   "source": [
    "# INSTALL\n",
    "\n",
    "See [documentation to set-up the local OSRM server](https://github.com/satellogic/open-impact/blob/master/gambia/routing-server.md)\n"
   ]
  },
  {
   "cell_type": "markdown",
   "metadata": {},
   "source": [
    "# Travel time\n",
    "\n",
    "This notebook shows how to calculate traveling time over known roads in different modes of transportation (bike, car, truck, walking, ...).\n"
   ]
  },
  {
   "cell_type": "code",
   "execution_count": 4,
   "metadata": {},
   "outputs": [],
   "source": [
    "osrm_server=\"http://0.0.0.0:5000\"\n",
    "osrm_server=\"https://router.project-osrm.org\" #IF you want to test the code running a remote server"
   ]
  },
  {
   "cell_type": "markdown",
   "metadata": {},
   "source": [
    "## Simple OD pair call"
   ]
  },
  {
   "cell_type": "code",
   "execution_count": 5,
   "metadata": {},
   "outputs": [
    {
     "name": "stdout",
     "output_type": "stream",
     "text": [
      "https://router.project-osrm.org/route/v1/driving/-17.418823,14.721761;-13.95813,13.480448\n",
      "503214.2  meters\n",
      "55963.9  seconds\n"
     ]
    }
   ],
   "source": [
    "import requests  #http framework to make Mapbox API requests for routes\n",
    "import json # handle response as json\n",
    "import datetime # save timestamp\n",
    " \n",
    "url=osrm_server+\"/route/v1/driving/\"\n",
    "comma=\"%2C\"\n",
    "sep=\"%3B\"\n",
    "origin=[14.721761,-17.418823]\n",
    "destination=[13.480448,-13.958130]\n",
    "fullurl=url+str(origin[1])+','+str(origin[0])+\";\"+str(destination[1])+','+str(destination[0])\n",
    "response = requests.get(fullurl) #do the request\n",
    "response.raise_for_status() # ensure we notice bad responses\n",
    "print(fullurl)\n",
    "# http://localhost:5000/route/v1/driving/-17.418823,14.721761;-13.95813,13.480448'\n",
    "print(json.loads(response.text)['routes'][0]['distance'],\" meters\")\n",
    "# 510247, ' meters'\n",
    "print (json.loads(response.text)['routes'][0]['duration'],\" seconds\")\n",
    "# 30281.4, ' seconds'\n",
    "\n"
   ]
  },
  {
   "cell_type": "markdown",
   "metadata": {},
   "source": [
    "## Matrix call"
   ]
  },
  {
   "cell_type": "code",
   "execution_count": 6,
   "metadata": {},
   "outputs": [
    {
     "name": "stdout",
     "output_type": "stream",
     "text": [
      "Read 798 villages\n",
      "Read 28 health facilities\n"
     ]
    }
   ],
   "source": [
    "import json\n",
    "\n",
    "# Read Origins\n",
    "origin_file='./villages.geojson'\n",
    "\n",
    "with open(origin_file) as f:\n",
    "    villages = json.load(f)\n",
    "print(\"Read %i villages\" % len(villages['features']) )\n",
    "\n",
    "# Read Destinations\n",
    "destination_file='./health.geojson'\n",
    "\n",
    "with open(destination_file) as f:\n",
    "    health = json.load(f)\n",
    "print(\"Read %i health facilities\" % len(health['features']) )"
   ]
  },
  {
   "cell_type": "code",
   "execution_count": 8,
   "metadata": {},
   "outputs": [],
   "source": [
    "import csv\n",
    "import requests\n",
    "import json\n",
    "import numpy as np\n",
    "\n",
    "#calculate all pairs of distance\n",
    "#print [time,distance] in [hours,km] to get for one point to the other\n",
    "url=osrm_server+\"/table/v1/driving/\"\n",
    "\n",
    "\n",
    "#Example from API \n",
    "#curl 'http://router.project-osrm.org/table/v1/driving/13.388860,52.517037;13.397634,52.529407;13.428555,52.523219'\n",
    "\n",
    "server=osrm_server+\"/table/v1/driving/\"        \n",
    "comma=\"%2C\"\n",
    "Sep=\"%3B\"\n",
    "\n",
    "batch=100\n",
    "origin_type='farmer'\n",
    "origins['t_'+origin_type]=-1\n",
    "origins['m_'+origin_type]=-1\n",
    "\n",
    "#origins is a panda DataFrame as the set of origins for the routes\n",
    "#destinations is a panda DataFrame as the set of destinations for the routes.\n",
    "\n",
    "for i in np.arange(origins.shape[0]/batch):\n",
    "    print(\"Doing batch %i, [%i,%i] of %i\"\n",
    "          %(i,batch*i,batch*(i+1),origins.shape[0]),end=\"\\r\")\n",
    "    origins_batch=origins.iloc[int(batch*i):].head(n=batch)\n",
    "    \n",
    "    destinations=\";\".join([str(i[1])+','+str(i[0]) for i in destinations[['lat','lon']].values])\n",
    "    origins_ids=origins_batch['ids']\n",
    "    \n",
    "    trail=\".json?destinations=\"+\\\n",
    "    ';'.join([str(x) for x in np.arange(len(destinations))])+\\\n",
    "    \"&sources=\"+\\\n",
    "    ';'.join([str(x) for x in np.arange(len(destinations),len(destinations)+len(destinations_batch))])\n",
    "    \n",
    "    fullurl= server+destinations_loc+\";\"+destinations+trail\n",
    "    \n",
    "    #print(fullurl)\n",
    "    response = requests.get(fullurl)\n",
    "    response.raise_for_status()\n",
    "    durations_matrix=json.loads(response.text)['durations']\n",
    "    duraciones=[]\n",
    "    destination_min=[]\n",
    "    for origen in np.arange(np.shape(durations_matrix)[0]):\n",
    "        durations+=[min(duraciones_matrix[origen])]\n",
    "        destination_min+=[np.argmin(durations_matrix[origins])]\n",
    "    for i in np.arange(len(durations)):\n",
    "        origins.loc[[destinos_nombre[i]], ['t_'+origin_type]]=durations[i]/60./60.\n",
    "        lugares.loc[[destinos_nombre[i]], ['m_'+origin_type]]=destination_min[i]"
   ]
  },
  {
   "cell_type": "code",
   "execution_count": null,
   "metadata": {},
   "outputs": [],
   "source": []
  }
 ],
 "metadata": {
  "kernelspec": {
   "display_name": "Python 3",
   "language": "python",
   "name": "python3"
  },
  "language_info": {
   "codemirror_mode": {
    "name": "ipython",
    "version": 3
   },
   "file_extension": ".py",
   "mimetype": "text/x-python",
   "name": "python",
   "nbconvert_exporter": "python",
   "pygments_lexer": "ipython3",
   "version": "3.6.5"
  }
 },
 "nbformat": 4,
 "nbformat_minor": 2
}
