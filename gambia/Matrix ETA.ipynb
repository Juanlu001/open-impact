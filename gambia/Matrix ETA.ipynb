{
 "cells": [
  {
   "cell_type": "code",
   "execution_count": null,
   "metadata": {},
   "outputs": [],
   "source": [
    "\n"
   ]
  },
  {
   "cell_type": "code",
   "execution_count": 10,
   "metadata": {},
   "outputs": [],
   "source": [
    "osrm_server=\"http://0.0.0.0:5000\""
   ]
  },
  {
   "cell_type": "markdown",
   "metadata": {},
   "source": [
    "## Simple OD pair call"
   ]
  },
  {
   "cell_type": "code",
   "execution_count": 12,
   "metadata": {},
   "outputs": [
    {
     "name": "stdout",
     "output_type": "stream",
     "text": [
      "http://0.0.0.0:5000/route/v1/driving/-17.418823,14.721761;-13.95813,13.480448\n",
      "510247  meters\n",
      "30281.4  seconds\n"
     ]
    }
   ],
   "source": [
    "import requests  #http framework to make Mapbox API requests for routes\n",
    "import json # handle response as json\n",
    "import datetime # save timestamp\n",
    " \n",
    "url=osrm_server+\"/route/v1/driving/\"\n",
    "comma=\"%2C\"\n",
    "sep=\"%3B\"\n",
    "origin=[14.721761,-17.418823]\n",
    "destination=[13.480448,-13.958130]\n",
    "fullurl=url+str(origin[1])+','+str(origin[0])+\";\"+str(destination[1])+','+str(destination[0])\n",
    "response = requests.get(fullurl) #do the request\n",
    "response.raise_for_status() # ensure we notice bad responses\n",
    "print(fullurl)\n",
    "# http://localhost:5000/route/v1/driving/-17.418823,14.721761;-13.95813,13.480448'\n",
    "print(json.loads(response.text)['routes'][0]['distance'],\" meters\")\n",
    "# 510247, ' meters'\n",
    "print (json.loads(response.text)['routes'][0]['duration'],\" seconds\")\n",
    "# 30281.4, ' seconds'\n",
    "\n"
   ]
  },
  {
   "cell_type": "markdown",
   "metadata": {},
   "source": [
    "## Matrix call"
   ]
  },
  {
   "cell_type": "code",
   "execution_count": 15,
   "metadata": {},
   "outputs": [
    {
     "name": "stdout",
     "output_type": "stream",
     "text": [
      "Read 798 villages\n",
      "Read 28 health facilities\n"
     ]
    }
   ],
   "source": [
    "import json\n",
    "\n",
    "# Read Origins\n",
    "origin_file='./villages.geojson'\n",
    "\n",
    "with open(origin_file) as f:\n",
    "    villages = json.load(f)\n",
    "print(\"Read %i villages\" % len(villages['features']) )\n",
    "\n",
    "# Read Destinations\n",
    "destination_file='./health.geojson'\n",
    "\n",
    "with open(destination_file) as f:\n",
    "    health = json.load(f)\n",
    "print(\"Read %i health facilities\" % len(health['features']) )"
   ]
  },
  {
   "cell_type": "code",
   "execution_count": null,
   "metadata": {},
   "outputs": [],
   "source": [
    "import csv\n",
    "import requests\n",
    "import json\n",
    "import numpy as np\n",
    "\n",
    "#calculate all pairs of distance\n",
    "#print [time,distance] in [hours,km] to get for one point to the other\n",
    "url=osrm_server+\"/table/v1/driving/\n",
    "\n",
    "#TODO\n",
    "\n",
    "#Example from API \n",
    "#curl 'http://router.project-osrm.org/table/v1/driving/13.388860,52.517037;13.397634,52.529407;13.428555,52.523219'"
   ]
  }
 ],
 "metadata": {
  "kernelspec": {
   "display_name": "Python 3",
   "language": "python",
   "name": "python3"
  },
  "language_info": {
   "codemirror_mode": {
    "name": "ipython",
    "version": 3
   },
   "file_extension": ".py",
   "mimetype": "text/x-python",
   "name": "python",
   "nbconvert_exporter": "python",
   "pygments_lexer": "ipython3",
   "version": "3.6.4"
  }
 },
 "nbformat": 4,
 "nbformat_minor": 2
}
