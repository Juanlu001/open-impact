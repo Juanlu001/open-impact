{
 "cells": [
  {
   "cell_type": "markdown",
   "metadata": {},
   "source": [
    "# Forest Recovery\n",
    "\n",
    "Can we predict recovery times from a forest fire? What makes for a fastest recovery?\n",
    "\n",
    "Data:\n",
    "- Landsat/Copernicus Level-1 at different times.\n",
    "- Satellogic Hyperspectral where available.\n",
    "- Historical Hyperion where available.\n",
    "\n",
    "Concept:\n",
    "\n",
    "Take data from right before a fire to after it's fully recovered. Use the hyperspectral and temporal information to adjust to a recovery interpolation. Once done, it should be possible to map quick recoveries and what makes them so."
   ]
  },
  {
   "cell_type": "code",
   "execution_count": null,
   "metadata": {
    "collapsed": true
   },
   "outputs": [],
   "source": [
    "#Mapping the region under study"
   ]
  },
  {
   "cell_type": "code",
   "execution_count": null,
   "metadata": {
    "collapsed": true
   },
   "outputs": [],
   "source": [
    "#Collecting Landsat/Copernicus data for the RoI"
   ]
  },
  {
   "cell_type": "code",
   "execution_count": null,
   "metadata": {
    "collapsed": true
   },
   "outputs": [],
   "source": [
    "#Collecting Satellogic data for the RoI"
   ]
  },
  {
   "cell_type": "code",
   "execution_count": 100,
   "metadata": {
    "collapsed": true
   },
   "outputs": [],
   "source": [
    "#!/usr/bin/env python3\n",
    "# -*- coding: utf-8 -*-\n",
    "%matplotlib inline\n",
    "from __future__ import division\n",
    "import numpy as np\n",
    "import matplotlib.pyplot as plt\n",
    "import sys\n",
    "import argparse\n",
    "import os\n",
    "from os import listdir\n",
    "from os.path import isfile, join\n",
    "import tifffile as tiff\n",
    "from PIL import Image\n",
    "\n",
    "\n",
    "def load_tiff_datacube(path, filenames):\n",
    "  \n",
    "    data0 = tiff.imread(os.path.join(path, filenames[0]))  \n",
    "    data = np.empty(( np.shape(data0) + (len(filenames),) ))   \n",
    "\n",
    "    for f, fil in enumerate(filenames[1:], start=1):     \n",
    "        data[:,:,f] = tiff.imread(os.path.join(path, fil))\n",
    "    data[:,:,0] = data0            \n",
    "    return data\n",
    "\n",
    "\n",
    "def load_tiff_datacube_roi(path, filenames, roi_init, roi_size):\n",
    "  \n",
    "    data0 = tiff.imread(os.path.join(path, filenames[0]))[roi_init[0]:roi_init[0] + roi_size[0], \n",
    "                                                          roi_init[1]:roi_init[1] + roi_size[1]]  \n",
    "    data = np.empty(( np.shape(data0) + (len(filenames),) ))   \n",
    "\n",
    "    for f, fil in enumerate(filenames[1:], start=1):     \n",
    "        data[:,:,f] = tiff.imread(os.path.join(path, fil))[roi_init[0]:roi_init[0] + roi_size[0], \n",
    "                                                           roi_init[1]:roi_init[1] + roi_size[1]]\n",
    "    data[:,:,0] = data0            \n",
    "    return data\n",
    "\n",
    "\n",
    "def load_png_datacube(path, filenames):\n",
    "  \n",
    "    data0 = np.asarray(Image.open(os.path.join(path, filenames[0]))) \n",
    "    data = np.empty(( np.shape(data0) + (len(filenames),) ))   \n",
    "\n",
    "    for f, fil in enumerate(filenames[1:], start=1):     \n",
    "        data[:,:,f] = data[:,:,f] = np.asarray(Image.open(os.path.join(path, fil)))\n",
    "    data[:,:,0] = data0            \n",
    "    return data\n",
    "\n",
    "\n",
    "def load_png_datacube_roi(path, filenames, roi_init, roi_size):\n",
    "   \n",
    "    data0 = np.asarray(Image.open(os.path.join(path, filenames[0])))[roi_init[0]:roi_init[0] + roi_size[0], \n",
    "                                                                     roi_init[1]:roi_init[1] + roi_size[1]]  \n",
    "   \n",
    "    data = np.empty(( np.shape(data0) + (len(filenames),) ))   \n",
    "\n",
    "    for f, fil in enumerate(filenames[1:], start=1):     \n",
    "        data[:,:,f] = data[:,:,f] = np.asarray(Image.open(os.path.join(path, fil)))[roi_init[0]:roi_init[0] + roi_size[0], \n",
    "                                                                                    roi_init[1]:roi_init[1] + roi_size[1]]\n",
    "    data[:,:,0] = data0            \n",
    "    return data\n"
   ]
  },
  {
   "cell_type": "markdown",
   "metadata": {},
   "source": [
    "# Create dictionaries with the desired datasets:\n"
   ]
  },
  {
   "cell_type": "code",
   "execution_count": 101,
   "metadata": {
    "collapsed": true
   },
   "outputs": [],
   "source": [
    "###################\n",
    "# Satellogic Data:\n",
    "###################\n",
    "\n",
    "sate_example1 = {'sate_files_dir' : '/home/agus/ownCloud/Satellogic_agus/micro_calibration/imagenes_micro_repo/SL_newsat1_3900f149ea7745cbb5d6d75b6f5c9a8f71f044cd-HyperCube/rasters',                 # help = Path to Satellogic hypercube npz file\n",
    "            'metadata_exp' : 1,                     # Exposure time (in metadata units)\n",
    "            'additional_gain' : 4.833821157191273,                    # Gain correction factor (DIQ pipeline)\n",
    "            'sate_roi_pixel_i' : [2628,2127],            # Initial ROI pixel / format = [row0, col0]             \n",
    "            'sate_roi_size' : [20,20]}                # ROI height and width / format = [height, width]     \n",
    "\n",
    "\n",
    "#################\n",
    "# Hyperion Data:\n",
    "#################\n",
    "    \n",
    "hyperion_example1 = {'hyperion_files_dir' : '/home/agus/Desktop/Hyperion/Hyperion_downloads/Frenchman_flat/EO1H0400342017027110PF (2)/slices', \n",
    "                'hyp_roi_pixel_i' : [1734,450],             # Initial ROI pixel / format = [row0, col0]\n",
    "                'hyp_roi_size' : [20,20],                   # ROI height and width / format = [height, width]\n",
    "                'HYP_SENSOR_LOOK_ANGLE' : -1.8618,          # deg\n",
    "                'HYP_SUN_AZIMUTH' : 122.186182,             # deg\n",
    "                'HYP_SUN_ELEVATION' : 10.203312}            # deg\n",
    "\n",
    "\n",
    "################\n",
    "# Landsat Data:\n",
    "################\n",
    "\n",
    "landsat_example1 = {'files_dir' : '/home/agus/ownCloud/Satellogic_agus/micro_calibration/landsat/sonora_LC08_L1TP_037038_20170528_20170615_01_T1/slices',\n",
    "                    'roi_pixel_i1' : [3267,804],\n",
    "                    'roi_size1' :    [100,100],\n",
    "                    'roi_pixel_i2' : [3713,681],           \n",
    "                    'roi_size2' :    [50,50],\n",
    "                    'roi_pixel_i3' : [3860,1056],           \n",
    "                    'roi_size3' :    [50,50],\n",
    "                    'roi_pixel_i4' : [6258,143],        # Roi correspondiente al agua!   \n",
    "                    'roi_size4' :    [50,50],           # Roi correspondiente al agua!\n",
    "                    'RADIANCE_MULT_BAND' : [1.2223E-02, 1.2517E-02, 1.1534E-02, 9.7263E-03, 5.9520E-03][1:5],\n",
    "                    'RADIANCE_ADD_BAND' : [-61.11674, -62.58429,  -57.67089, -48.63134,  -29.75996][1:5]}\n",
    "\n",
    "################\n",
    "# Sentinel Data:\n",
    "################\n",
    "\n",
    "sentinel_example1 = {'files_dir' : '/home/agus/ownCloud/Satellogic_agus/micro_calibration/sentinel/sonora/S2A_MSIL1C_20170528T182431_N0205_R084_T12STA_20170528T182433.SAFE/GRANULE/L1C_T12STA_A010091_20170528T182433/IMG_DATA/slices',                 # help = Path to Satellogic hypercube npz file\n",
    "                    'roi_pixel_i10' : [10276,76],           # Initial ROI pixel / format = [row0, col0]\n",
    "                    'roi_size10' : [50,50],                  # ROI height and width / format = [height, width]   \n",
    "                    'roi_pixel_i20' : [5126,44],           # Initial ROI pixel / format = [row0, col0]\n",
    "                    'roi_size20' : [50,50],                  # ROI height and width / format = [height, width]   \n",
    "                    'roi_pixel_i60' : [1679,22],           # Initial ROI pixel / format = [row0, col0]\n",
    "                    'roi_size60' : [50,50],                  # ROI height and width / format = [height, width]   \n",
    "                    'U_reflectance_corr' : 0.974850201904039,  # Earth - Sun distance correction factor\n",
    "                    'Sun_Angle_Zenith' : 18.0631436973934 }\n"
   ]
  },
  {
   "cell_type": "markdown",
   "metadata": {},
   "source": [
    "# Select datasets and data format:"
   ]
  },
  {
   "cell_type": "code",
   "execution_count": 102,
   "metadata": {
    "collapsed": true
   },
   "outputs": [],
   "source": [
    "##################################################\n",
    "# Data format: 'cube' - 'roi'\n",
    "##################################################\n",
    "\n",
    "# Select 'cube' for loading the complete datacube. Select 'roi' for just loading the selected ROI.\n",
    "\n",
    "# WARNING: Complete datacube consumes lots of memory.\n",
    "\n",
    "data_format = 'roi'         \n",
    "\n",
    "##################################################\n",
    "# Datasets: Macro - Hyperion - Landsat - Sentinel\n",
    "##################################################\n",
    "\n",
    "macro = sate_example1 \n",
    "\n",
    "hyp = hyperion_example1\n",
    "\n",
    "landsat_dataset = landsat_example1\n",
    "\n",
    "sentinel_dataset = sentinel_example1\n"
   ]
  },
  {
   "cell_type": "markdown",
   "metadata": {},
   "source": [
    "# Load Satellogic dataset:"
   ]
  },
  {
   "cell_type": "code",
   "execution_count": 99,
   "metadata": {
    "collapsed": false
   },
   "outputs": [
    {
     "data": {
      "image/png": "[encoded data removed]",
      "text/plain": [
       "<matplotlib.figure.Figure at 0x7f2c9294fb50>"
      ]
     },
     "metadata": {},
     "output_type": "display_data"
    }
   ],
   "source": [
    "if macro is not None:\n",
    "    \n",
    "    # Load dataset:\n",
    "\n",
    "    macro_files_dir = macro['sate_files_dir']\n",
    "    macro_metadata_exp = macro['metadata_exp']\n",
    "    additional_gain = macro['additional_gain']\n",
    "    macro_roi_pixel_i = macro['sate_roi_pixel_i']\n",
    "    macro_roi_size = macro['sate_roi_size'] \n",
    "\n",
    "    # Macro Wavelength:                               \n",
    "    \n",
    "    macro_wavelength = np.asarray([450, 462, 475, 488, 502, 516, 530, 550, 570, 582, 595, 608, 616, 670, 680, 690, 700, 710, 720, 730, 740, 750, \n",
    "                                   760 , 770, 780, 790, 800, 810, 820, 827])\n",
    "\n",
    "    # Load Macro images:\n",
    "\n",
    "    macro_filenames = os.listdir(macro_files_dir)\n",
    "    macro_filenames.sort()\n",
    " \n",
    "    if data_format == 'cube':\n",
    "\n",
    "        macro_cube = load_tiff_datacube(macro_files_dir, macro_filenames) \n",
    "\n",
    "    elif data_format == 'roi':\n",
    "\n",
    "        macro_roi = load_tiff_datacube_roi(macro_files_dir, macro_filenames, macro_roi_pixel_i, macro_roi_size)\n",
    "\n",
    "        # Calculate mean and Std:\n",
    "\n",
    "        macro_profile = np.mean(macro_roi, axis=(0,1) )\n",
    "        macro_std = np.std(macro_roi, axis=(0,1) )\n",
    "        \n",
    "        ######################################################\n",
    "        # Graph spectral signature mean + Standard deviation:\n",
    "        ######################################################\n",
    "        \n",
    "        plt.figure(figsize=(8,8))\n",
    "        plt.title('Intensity vs. Wavelength')\n",
    "        plt.errorbar(macro_wavelength, macro_profile, yerr=macro_std, fmt='-ob', label='Macro')\n",
    "        plt.xlabel('Wavelength (nm)')\n",
    "        plt.ylabel('Intensity')\n",
    "        plt.legend()\n",
    "\n",
    "    "
   ]
  },
  {
   "cell_type": "markdown",
   "metadata": {},
   "source": [
    "# Load Hyperion dataset:"
   ]
  },
  {
   "cell_type": "code",
   "execution_count": 98,
   "metadata": {
    "collapsed": false
   },
   "outputs": [
    {
     "data": {
      "image/png": "[encoded data removed]",
      "text/plain": [
       "<matplotlib.figure.Figure at 0x7f2c934b18d0>"
      ]
     },
     "metadata": {},
     "output_type": "display_data"
    }
   ],
   "source": [
    "if hyp is not None:\n",
    "    \n",
    "    # Load dataset:\n",
    "    \n",
    "    hyperion_files_dir = hyp['hyperion_files_dir']\n",
    "    hyp_roi_pixel_i = hyp['hyp_roi_pixel_i']\n",
    "    hyp_roi_size = hyp['hyp_roi_size']\n",
    "\n",
    "    HYP_SENSOR_LOOK_ANGLE = hyp['HYP_SENSOR_LOOK_ANGLE'] \n",
    "    HYP_SUN_AZIMUTH = hyp['HYP_SUN_AZIMUTH']\n",
    "    HYP_SUN_ELEVATION = ['HYP_SUN_ELEVATION']\n",
    "    \n",
    "    # Hyperion Wavelength:          \n",
    "    \n",
    "    hyp_wavelength = np.loadtxt('resources/hyperion_wavelengths.txt')[13:45]\n",
    "    \n",
    "    # Radiometric values:\n",
    "    \n",
    "    hyp_gain = 0.025\n",
    "    \n",
    "    # Load Hyperion images:\n",
    "\n",
    "    hyp_filenames = os.listdir(hyperion_files_dir)\n",
    "    hyp_filenames.sort()\n",
    "\n",
    "    if data_format == 'cube':\n",
    "\n",
    "        hyp_cube = load_tiff_datacube(hyperion_files_dir, hyp_filenames[13:45]) * hyp_gain\n",
    "\n",
    "    elif data_format == 'roi':\n",
    "\n",
    "        hyp_roi = load_tiff_datacube_roi(hyperion_files_dir, hyp_filenames[13:45], hyp_roi_pixel_i, hyp_roi_size)  * hyp_gain\n",
    "\n",
    "        # Calculate mean and Std:\n",
    "        \n",
    "        hyp_profile = np.mean(hyp_roi, axis=(0,1) )\n",
    "        hyp_std = np.std(hyp_roi, axis=(0,1) )\n",
    "        \n",
    "        ######################################################\n",
    "        # Graph spectral signature mean + Standard deviation:\n",
    "        ######################################################\n",
    "            \n",
    "        plt.figure(figsize=(8,8))\n",
    "        plt.title('Intensity vs. Wavelength')\n",
    "        plt.errorbar(hyp_wavelength, hyp_profile, yerr=hyp_std, fmt='-og', label='Hyperion')\n",
    "        plt.xlabel('Wavelength (nm)')\n",
    "        plt.ylabel('Intensity')\n",
    "        plt.legend()\n",
    "  "
   ]
  },
  {
   "cell_type": "markdown",
   "metadata": {},
   "source": [
    "# Load Landsat dataset:"
   ]
  },
  {
   "cell_type": "code",
   "execution_count": 97,
   "metadata": {
    "collapsed": false
   },
   "outputs": [
    {
     "data": {
      "image/png": "[encoded data removed]",
      "text/plain": [
       "<matplotlib.figure.Figure at 0x7f2c91c640d0>"
      ]
     },
     "metadata": {},
     "output_type": "display_data"
    }
   ],
   "source": [
    "if landsat_dataset is not None:\n",
    "\n",
    "    land_files_dir = landsat_dataset['files_dir']\n",
    "    land_roi = landsat_dataset['roi_pixel_i1']\n",
    "    land_roi_size = landsat_dataset['roi_size1']\n",
    "    mult = landsat_dataset['RADIANCE_MULT_BAND']\n",
    "    add = landsat_dataset['RADIANCE_ADD_BAND'] \n",
    "    \n",
    "    # Landsat wavelength:\n",
    "    \n",
    "    landsat_wav = np.asarray([(512 - 452)/2 + 452, (590 - 533)/2 + 533, (673 - 636)/2 + 636, (879 - 851)/2 + 851])\n",
    "       \n",
    "    # Load Landsat images:\n",
    "    \n",
    "    landsat_filenames = os.listdir(land_files_dir)\n",
    "    landsat_filenames.sort()\n",
    "    \n",
    "    if data_format == 'cube':\n",
    "\n",
    "        landsat_cube = load_tiff_datacube(land_files_dir, landsat_filenames[0:4])\n",
    "\n",
    "        # Transform raw data into spectral radiance:\n",
    "\n",
    "        landsat_cube_radiance =  (np.multiply(landsat_cube, mult) + add )\n",
    "\n",
    "    elif data_format == 'roi':\n",
    "\n",
    "        landsat_roi = load_tiff_datacube_roi(land_files_dir, landsat_filenames[0:4], land_roi, land_roi_size)\n",
    "\n",
    "        # Transform raw data into spectral radiance:\n",
    "        \n",
    "        landsat_roi_radiance = (np.multiply(landsat_roi, mult) + add )\n",
    "        \n",
    "        # Calculate mean and Std:\n",
    "        \n",
    "        landsat_profile = np.mean(landsat_roi_radiance, axis=(0,1) )\n",
    "        landsat_std = np.std(landsat_roi_radiance, axis=(0,1) )\n",
    "\n",
    "        ######################################################\n",
    "        # Graph spectral signature mean + Standard deviation:\n",
    "        ######################################################\n",
    "        \n",
    "        plt.figure(figsize=(8,8))\n",
    "        plt.title('Intensity vs. Wavelength')\n",
    "        plt.errorbar(landsat_wav, landsat_profile, yerr=landsat_std, fmt='-or', label='Landsat')\n",
    "        plt.xlabel('Wavelength (nm)')\n",
    "        plt.ylabel('Intensity')\n",
    "        plt.legend()"
   ]
  },
  {
   "cell_type": "markdown",
   "metadata": {},
   "source": [
    "# Load Sentinel dataset:"
   ]
  },
  {
   "cell_type": "markdown",
   "metadata": {},
   "source": [
    "\n",
    "    Observations: \n",
    "    \n",
    "    1. Sentinel's raw data correspond to TOA reflectance. It is necessary to transform this data to TOA radiance in order to compare with Macro or Sentinel.\n",
    "    \n",
    "    2. The different spectral bands of Sentinel have different spatial resolutions. Please be careful when selecting the respective ROIs. "
   ]
  },
  {
   "cell_type": "code",
   "execution_count": 87,
   "metadata": {
    "collapsed": false
   },
   "outputs": [],
   "source": [
    "if sentinel_dataset is not None:\n",
    "   \n",
    "    # Load dictionary:\n",
    "    \n",
    "    sent_files_dir = sentinel_dataset['files_dir']\n",
    "    sent_roi10 = sentinel_dataset['roi_pixel_i10']\n",
    "    sent_roi_size10 = sentinel_dataset['roi_size10']\n",
    "    sent_roi20 = sentinel_dataset['roi_pixel_i20']\n",
    "    sent_roi_size20 = sentinel_dataset['roi_size20']\n",
    "    sent_roi60 = sentinel_dataset['roi_pixel_i60']\n",
    "    sent_roi_size60 = sentinel_dataset['roi_size60']   \n",
    "    \n",
    "    u_reflectance_corr = sentinel_dataset['U_reflectance_corr']\n",
    "    Sun_Angle_Zenith = sentinel_dataset['Sun_Angle_Zenith']\n",
    "\n",
    "    # Load Sentinel images:\n",
    "    \n",
    "    sent_filenames = os.listdir(sent_files_dir)\n",
    "    sent_filenames.sort()\n",
    " \n",
    "    # Sentinel Wavelengths:\n",
    "    \n",
    "    sent_wav = np.asarray([443.9, 496.6, 560.0, 664.5, 703.9, 740.2, 782.5, 835.1, 864.8, 945.0, 1373.5, 1613.7, 2202.4])\n",
    "    sent_wav10 = sent_wav[(2-1,3-1,4-1,8-1),]\n",
    "    sent_wav20 = sent_wav[(5-1,6-1,7-1,9-1),]\n",
    "    sent_wav60 = sent_wav[1-1]\n",
    " \n",
    "    # Sentinel spatial resolution:\n",
    "    \n",
    "    selected10 = [sent_filenames[n] for n in [2-1,3-1,4-1,8-1]]\n",
    "    selected20 = [sent_filenames[n] for n in [5-1,6-1,7-1,9-1]]\n",
    "    \n",
    "    # Radiometric values:\n",
    "    \n",
    "    solar_irradiance_list = np.asarray([1913.57, 1941.63, 1822.61, 1512.79, 1425.56, 1288.32, 1163.19, 1036.39, 955.19, 813.04, 367.15, 245.59, 85.25])[0:9]\n",
    "    quant_val = 10000\n",
    "    \n",
    "    if data_format == 'cube':\n",
    "        \n",
    "        sent_cube10 = load_png_datacube(sent_files_dir, selected10)\n",
    "        sent_cube20 = load_png_datacube(sent_files_dir, selected20)\n",
    "        sent_cube60 = np.asarray(Image.open(os.path.join(sent_files_dir, sent_filenames[1-1])))\n",
    "        \n",
    "        # Convert reflectivity to reflectance (relative values):\n",
    "        \n",
    "        sent_cube10_radiance = np.multiply(sent_cube10, solar_irradiance_list[(2-1,3-1,4-1,8-1),])/quant_val\n",
    "        sent_cube20_radiance = np.multiply(sent_cube20, solar_irradiance_list[(5-1,6-1,7-1,9-1),])/quant_val\n",
    "        sent_cube60_radiance = np.multiply(sent_cube60, solar_irradiance_list[1-1])/quant_val\n",
    "        \n",
    "        # Convert reflectivity to reflectance (absolute values):\n",
    "        \n",
    "        scaled_sent_cube10_radiance = sent_cube10_radiance * np.cos(Sun_Angle_Zenith * np.pi / 180) / (np.pi * u_reflectance_corr) \n",
    "        scaled_sent_cube20_radiance = sent_cube20_radiance * np.cos(Sun_Angle_Zenith * np.pi / 180) / (np.pi * u_reflectance_corr) \n",
    "        scaled_sent_cube60_radiance = sent_cube60_radiance * np.cos(Sun_Angle_Zenith * np.pi / 180) / (np.pi * u_reflectance_corr) \n",
    "\n",
    "    elif data_format == 'roi':\n",
    "        \n",
    "        sent_roi10 = load_png_datacube_roi(sent_files_dir, selected10, sent_roi10, sent_roi_size10)\n",
    "        sent_roi20 = load_png_datacube_roi(sent_files_dir, selected20, sent_roi20, sent_roi_size20)\n",
    "        sent_roi60 = np.asarray(Image.open(os.path.join(sent_files_dir, sent_filenames[1-1])))\n",
    "    \n",
    "        # Convert reflectivity to reflectance (relative values):\n",
    "        \n",
    "        sent_roi10_radiance = np.multiply(sent_roi10, solar_irradiance_list[(2-1,3-1,4-1,8-1),])/quant_val\n",
    "        sent_roi20_radiance = np.multiply(sent_roi20, solar_irradiance_list[(5-1,6-1,7-1,9-1),])/quant_val\n",
    "        sent_roi60_radiance = np.multiply(sent_roi60, solar_irradiance_list[1-1])/quant_val\n",
    "    \n",
    "        # Calculate spectral mean and standard deviation:\n",
    "        \n",
    "        sent_profile10 = np.mean(sent_roi10_radiance, axis=(0,1))\n",
    "        sent_profile20 = np.mean(sent_roi10_radiance, axis=(0,1))\n",
    "        sent_profile60 = np.mean(sent_roi60_radiance)\n",
    "    \n",
    "        sent_std10 = np.std(sent_roi10_radiance, axis=(0,1))\n",
    "        sent_std20 = np.std(sent_roi10_radiance, axis=(0,1))\n",
    "        sent_std60 = np.std(sent_roi60_radiance)\n",
    "    \n",
    "        # Concatenate all images:\n",
    "        \n",
    "        sent_radiance = np.concatenate((sent_profile10, sent_profile20, [sent_profile60]),axis=0)\n",
    "        sent_std = np.concatenate((sent_std10, sent_std20, [sent_std60]),axis=0)\n",
    "        sent_wavelength = np.concatenate((sent_wav10, sent_wav20, [sent_wav60]),axis=0)\n",
    "\n",
    "        # Convert reflectivity to reflectance (absolute values):\n",
    "        \n",
    "        scaled_sent_radiance = sent_radiance * np.cos(Sun_Angle_Zenith * np.pi / 180) / (np.pi * u_reflectance_corr) \n",
    "        \n",
    "        ######################################################\n",
    "        # Graph spectral signature mean + Standard deviation:\n",
    "        ######################################################\n",
    "        \n",
    "        plt.figure(figsize=(8,8))\n",
    "        plt.title('Intensity vs. Wavelength')\n",
    "        plt.plot(sent_wavelength, scaled_sent_radiance, 'ok', label='Sentinel')\n",
    "        plt.xlabel('Wavelength (nm)')\n",
    "        plt.ylabel('Intensity')\n",
    "        plt.legend()\n",
    "        plt.show()"
   ]
  }
 ],
 "metadata": {
  "kernelspec": {
   "display_name": "Python 2",
   "language": "python",
   "name": "python2"
  },
  "language_info": {
   "codemirror_mode": {
    "name": "ipython",
    "version": 2
   },
   "file_extension": ".py",
   "mimetype": "text/x-python",
   "name": "python",
   "nbconvert_exporter": "python",
   "pygments_lexer": "ipython2",
   "version": "2.7.12"
  }
 },
 "nbformat": 4,
 "nbformat_minor": 2
}
